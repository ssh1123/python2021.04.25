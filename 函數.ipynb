{
  "nbformat": 4,
  "nbformat_minor": 0,
  "metadata": {
    "colab": {
      "name": "函數.ipynb",
      "provenance": [],
      "authorship_tag": "ABX9TyPn1Fgd5XOz1SpOs0DwUx1y",
      "include_colab_link": true
    },
    "kernelspec": {
      "name": "python3",
      "display_name": "Python 3"
    },
    "language_info": {
      "name": "python"
    }
  },
  "cells": [
    {
      "cell_type": "markdown",
      "metadata": {
        "id": "view-in-github",
        "colab_type": "text"
      },
      "source": [
        "<a href=\"https://colab.research.google.com/github/ssh1123/python2021.04.25/blob/main/%E5%87%BD%E6%95%B8.ipynb\" target=\"_parent\"><img src=\"https://colab.research.google.com/assets/colab-badge.svg\" alt=\"Open In Colab\"/></a>"
      ]
    },
    {
      "cell_type": "code",
      "metadata": {
        "colab": {
          "base_uri": "https://localhost:8080/"
        },
        "id": "EZbu_e61vtYX",
        "outputId": "ab80fd04-e7c9-4066-f86c-5d38fbe8add0"
      },
      "source": [
        "#費式數列\n",
        "def fib(n):\n",
        "    if n==1 or n==2:\n",
        "        return 1\n",
        "    return fib(n-1)+fib(n-2)\n",
        "\n",
        "print(fib(10))"
      ],
      "execution_count": 2,
      "outputs": [
        {
          "output_type": "stream",
          "text": [
            "55\n"
          ],
          "name": "stdout"
        }
      ]
    },
    {
      "cell_type": "code",
      "metadata": {
        "colab": {
          "base_uri": "https://localhost:8080/"
        },
        "id": "Beh-ONJdwBCJ",
        "outputId": "62616de1-74a1-4d97-e069-b644e92c1290"
      },
      "source": [
        "#費式\n",
        "def fib(n):\n",
        "    a,b = 1,1\n",
        "    for i in range(n-1):\n",
        "        a,b = b,a+b\n",
        "    return a\n",
        " \n",
        "\n",
        "print(fib(10))"
      ],
      "execution_count": 1,
      "outputs": [
        {
          "output_type": "stream",
          "text": [
            "55\n"
          ],
          "name": "stdout"
        }
      ]
    },
    {
      "cell_type": "code",
      "metadata": {
        "colab": {
          "base_uri": "https://localhost:8080/"
        },
        "id": "lHhJusDwwTsx",
        "outputId": "cae8897f-29fd-419b-87e1-e58273234f28"
      },
      "source": [
        "#pow\n",
        "pow(2,2)#2*2\n",
        "pow(2,5,5)#pow(a,b,c)=a^b%c"
      ],
      "execution_count": 32,
      "outputs": [
        {
          "output_type": "execute_result",
          "data": {
            "text/plain": [
              "2"
            ]
          },
          "metadata": {
            "tags": []
          },
          "execution_count": 32
        }
      ]
    },
    {
      "cell_type": "code",
      "metadata": {
        "colab": {
          "base_uri": "https://localhost:8080/"
        },
        "id": "WstdPNeYyLtA",
        "outputId": "f2d2b235-7b3d-4293-9925-ba4ffbbd773e"
      },
      "source": [
        "divmod(3,5) #return(a/b,a%b)"
      ],
      "execution_count": 35,
      "outputs": [
        {
          "output_type": "execute_result",
          "data": {
            "text/plain": [
              "(0, 3)"
            ]
          },
          "metadata": {
            "tags": []
          },
          "execution_count": 35
        }
      ]
    },
    {
      "cell_type": "markdown",
      "metadata": {
        "id": "jYB7bAXgynaJ"
      },
      "source": [
        "十進位數字 轉 十六進位 ==> hex(255) hex(-42)\n",
        "十進位數字 轉 八進位 ==> oct(8)\n",
        "十進位數字 轉 二進位 ==> bin(3)\n",
        "\n",
        "二進位 轉 十進位數字 ==> 0b10 \n",
        "八進位 轉 十進位數字 ==> 0o10   0o10101110\n",
        "十六進位 轉 十進位數字 ==>0x10"
      ]
    }
  ]
}