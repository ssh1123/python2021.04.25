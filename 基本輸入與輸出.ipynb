{
  "nbformat": 4,
  "nbformat_minor": 0,
  "metadata": {
    "colab": {
      "name": "基本輸入與輸出.ipynb",
      "provenance": [],
      "authorship_tag": "ABX9TyPSO2H5MHwRduu2gaIMOq5i",
      "include_colab_link": true
    },
    "kernelspec": {
      "name": "python3",
      "display_name": "Python 3"
    },
    "language_info": {
      "name": "python"
    }
  },
  "cells": [
    {
      "cell_type": "markdown",
      "metadata": {
        "id": "view-in-github",
        "colab_type": "text"
      },
      "source": [
        "<a href=\"https://colab.research.google.com/github/ssh1123/python2021.04.25/blob/main/%E5%9F%BA%E6%9C%AC%E8%BC%B8%E5%85%A5%E8%88%87%E8%BC%B8%E5%87%BA.ipynb\" target=\"_parent\"><img src=\"https://colab.research.google.com/assets/colab-badge.svg\" alt=\"Open In Colab\"/></a>"
      ]
    },
    {
      "cell_type": "code",
      "metadata": {
        "colab": {
          "base_uri": "https://localhost:8080/"
        },
        "id": "Zc78A-6e8QOY",
        "outputId": "236b3dca-51a0-4d73-96b0-3d2a7bcd1b09"
      },
      "source": [
        "x = input('Enter your name:')\n",
        "print('Hello, ' + x)\n",
        "\n"
      ],
      "execution_count": 3,
      "outputs": [
        {
          "output_type": "stream",
          "text": [
            "Enter your name:lkl\n",
            "Hello, lkl\n"
          ],
          "name": "stdout"
        }
      ]
    },
    {
      "cell_type": "code",
      "metadata": {
        "colab": {
          "base_uri": "https://localhost:8080/",
          "height": 52
        },
        "id": "nMgNavAI8vha",
        "outputId": "29a76b15-e923-4ad6-d07a-4656af3683c3"
      },
      "source": [
        "a = input(\"請輸入：\")\n",
        "type(a)\n"
      ],
      "execution_count": 10,
      "outputs": [
        {
          "output_type": "stream",
          "text": [
            "請輸入：33\n"
          ],
          "name": "stdout"
        },
        {
          "output_type": "execute_result",
          "data": {
            "application/vnd.google.colaboratory.intrinsic+json": {
              "type": "string"
            },
            "text/plain": [
              "'33'"
            ]
          },
          "metadata": {
            "tags": []
          },
          "execution_count": 10
        }
      ]
    },
    {
      "cell_type": "code",
      "metadata": {
        "colab": {
          "base_uri": "https://localhost:8080/"
        },
        "id": "jsJpl3zS82yh",
        "outputId": "a4cf2cbe-bed8-4cd1-a0db-8fc5512387df"
      },
      "source": [
        "a = int(input(\"請輸入：\"))\n",
        "b=a+1\n",
        "a,b\n",
        "\n"
      ],
      "execution_count": 14,
      "outputs": [
        {
          "output_type": "stream",
          "text": [
            "請輸入：55\n"
          ],
          "name": "stdout"
        },
        {
          "output_type": "execute_result",
          "data": {
            "text/plain": [
              "(55, 56)"
            ]
          },
          "metadata": {
            "tags": []
          },
          "execution_count": 14
        }
      ]
    },
    {
      "cell_type": "code",
      "metadata": {
        "colab": {
          "base_uri": "https://localhost:8080/"
        },
        "id": "BKtoff-G9p1B",
        "outputId": "42c664ed-1a18-4f8a-b502-92c5d38c4ff9"
      },
      "source": [
        "a,b = eval(input(\"請輸入兩個數位：\"))\n",
        "a,b"
      ],
      "execution_count": 16,
      "outputs": [
        {
          "output_type": "stream",
          "text": [
            "請輸入兩個數位：22,55\n"
          ],
          "name": "stdout"
        },
        {
          "output_type": "execute_result",
          "data": {
            "text/plain": [
              "(22, 55)"
            ]
          },
          "metadata": {
            "tags": []
          },
          "execution_count": 16
        }
      ]
    },
    {
      "cell_type": "code",
      "metadata": {
        "colab": {
          "base_uri": "https://localhost:8080/"
        },
        "id": "enRoM9f0-EDq",
        "outputId": "cf69508d-6952-49ed-ddf4-e6531fad1a87"
      },
      "source": [
        "print(\"Happy : %2d, Python : %5.2f\" % (1, 05.333))\n",
        " \n",
        "\n",
        "print(\"Total students : %3d, Boys : %2d\" % (242, 1200))\n",
        " \n",
        "\n",
        "print(\"%7.3o\" % (25))\n",
        " \n",
        "\n",
        "print(\"%10.3E\" % (356.08977))"
      ],
      "execution_count": 25,
      "outputs": [
        {
          "output_type": "stream",
          "text": [
            "Happy :  1, Python :  5.33\n",
            "Total students : 242, Boys : 1200\n",
            "    031\n",
            " 3.561E+02\n"
          ],
          "name": "stdout"
        }
      ]
    },
    {
      "cell_type": "code",
      "metadata": {
        "colab": {
          "base_uri": "https://localhost:8080/"
        },
        "id": "vrx23qre-X5x",
        "outputId": "4efa8a85-51dc-44a3-a71f-947aaa812022"
      },
      "source": [
        "print('I love {} for \"{}!\"'.format('Python', 'CTFer'))"
      ],
      "execution_count": 20,
      "outputs": [
        {
          "output_type": "stream",
          "text": [
            "I love Python for \"CTFer!\"\n"
          ],
          "name": "stdout"
        }
      ]
    }
  ]
}